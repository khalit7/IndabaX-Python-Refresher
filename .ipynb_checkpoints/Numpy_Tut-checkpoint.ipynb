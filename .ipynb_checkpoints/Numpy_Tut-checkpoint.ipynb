{
 "cells": [
  {
   "cell_type": "markdown",
   "metadata": {
    "colab_type": "text",
    "id": "MmWVVqx4RFhN"
   },
   "source": [
    "# Numpy\n",
    "Numpy is the core library for scientific computing in Python (see the full [documentation](https://numpy.org/devdocs/user/quickstart.html) which is available online). It provides a high-performance multidimensional array object, and tools for working with these arrays. If you are already familiar with MATLAB, you might find this tutorial useful to get started with Numpy."
   ]
  },
  {
   "cell_type": "code",
   "execution_count": null,
   "metadata": {
    "colab": {
     "base_uri": "https://localhost:8080/",
     "height": 35
    },
    "colab_type": "code",
    "id": "Nc05X4MJjpXv",
    "outputId": "2a964fa1-4a96-4486-d409-51ba3f46ef4e"
   },
   "outputs": [],
   "source": [
    "import numpy as np\n"
   ]
  },
  {
   "cell_type": "markdown",
   "metadata": {
    "colab_type": "text",
    "id": "Lfv2UrCxRzck"
   },
   "source": [
    "A numpy array is a grid of values, all of the same type, and is indexed by a tuple of nonnegative integers. The number of dimensions is the rank of the array; the shape of an array is a tuple of integers giving the size of the array along each dimension."
   ]
  },
  {
   "cell_type": "code",
   "execution_count": null,
   "metadata": {
    "colab": {},
    "colab_type": "code",
    "id": "c2ADEa06R2Qz"
   },
   "outputs": [],
   "source": [
    "a = np.array([2,3,4])\n",
    "a"
   ]
  },
  {
   "cell_type": "code",
   "execution_count": null,
   "metadata": {
    "colab": {
     "base_uri": "https://localhost:8080/",
     "height": 35
    },
    "colab_type": "code",
    "id": "dgKGnaKfjwpw",
    "outputId": "1fe5653d-5bb0-416f-bff5-1adb2aa74c87"
   },
   "outputs": [],
   "source": [
    " a = np.arange(15)\n",
    " a"
   ]
  },
  {
   "cell_type": "code",
   "execution_count": null,
   "metadata": {
    "colab": {},
    "colab_type": "code",
    "id": "J0P2AXiikpXh"
   },
   "outputs": [],
   "source": [
    "a=np.arange( 0, 2, 0.3 )    #start   end     step\n",
    "a"
   ]
  },
  {
   "cell_type": "code",
   "execution_count": null,
   "metadata": {
    "colab": {
     "base_uri": "https://localhost:8080/",
     "height": 36
    },
    "colab_type": "code",
    "id": "fy01JxQblN9i",
    "outputId": "c17cdf26-6912-4e7d-a782-a969baa4b7ef"
   },
   "outputs": [],
   "source": [
    "a=np.linspace( 0, 2, 9 )             # start         end         number of elements that we want\n",
    "a"
   ]
  },
  {
   "cell_type": "code",
   "execution_count": null,
   "metadata": {
    "colab": {
     "base_uri": "https://localhost:8080/",
     "height": 73
    },
    "colab_type": "code",
    "id": "FqlRI-wjj6gF",
    "outputId": "ae0281da-1ed7-4cbc-f94b-17953409267b"
   },
   "outputs": [],
   "source": [
    "a=np.zeros( (3,4) )\n",
    "a"
   ]
  },
  {
   "cell_type": "code",
   "execution_count": null,
   "metadata": {
    "colab": {
     "base_uri": "https://localhost:8080/",
     "height": 54
    },
    "colab_type": "code",
    "id": "gmKdUPwzkDNQ",
    "outputId": "450535b2-5d8b-43a1-834a-6e13c492c27c"
   },
   "outputs": [],
   "source": [
    "np.ones( (2,2), dtype=np.int16 )"
   ]
  },
  {
   "cell_type": "code",
   "execution_count": null,
   "metadata": {
    "colab": {
     "base_uri": "https://localhost:8080/",
     "height": 36
    },
    "colab_type": "code",
    "id": "Cokn84nZlvJb",
    "outputId": "cbe9e89c-d332-429b-83f2-6d070ba4447b"
   },
   "outputs": [],
   "source": [
    "a=np.array([1,2,3])\n",
    "np.ones_like(a)"
   ]
  },
  {
   "cell_type": "code",
   "execution_count": null,
   "metadata": {
    "colab": {
     "base_uri": "https://localhost:8080/",
     "height": 36
    },
    "colab_type": "code",
    "id": "TW2wl-S-kPaP",
    "outputId": "b591487c-eb3c-4ed4-dd70-5fbeb30f2aa6"
   },
   "outputs": [],
   "source": [
    "a = np.arange(15)\n",
    "a"
   ]
  },
  {
   "cell_type": "code",
   "execution_count": null,
   "metadata": {
    "colab": {
     "base_uri": "https://localhost:8080/",
     "height": 54
    },
    "colab_type": "code",
    "id": "4E1TpsrmpJ36",
    "outputId": "2d336428-5aeb-4c7a-f21d-db4bad585d7d"
   },
   "outputs": [],
   "source": [
    "a = np.random.random((2,3))\n",
    "a"
   ]
  },
  {
   "cell_type": "code",
   "execution_count": null,
   "metadata": {
    "colab": {
     "base_uri": "https://localhost:8080/",
     "height": 72
    },
    "colab_type": "code",
    "id": "N18G4QH079rO",
    "outputId": "c6c6e04e-fd49-4bcb-880c-b634f840ed91"
   },
   "outputs": [],
   "source": [
    "a=np.full((3,2), 4) # Create a constant array\n",
    "a"
   ]
  },
  {
   "cell_type": "code",
   "execution_count": null,
   "metadata": {
    "colab": {
     "base_uri": "https://localhost:8080/",
     "height": 90
    },
    "colab_type": "code",
    "id": "uOF1uYVY8G6T",
    "outputId": "673123fc-b384-4778-c360-0c26698e3fb5"
   },
   "outputs": [],
   "source": [
    "a = np.eye(4)        # Create a 4x4 identity matrix\n",
    "print(a)"
   ]
  },
  {
   "cell_type": "code",
   "execution_count": null,
   "metadata": {
    "colab": {
     "base_uri": "https://localhost:8080/",
     "height": 35
    },
    "colab_type": "code",
    "id": "nBPRO9l9qoWT",
    "outputId": "a0200205-622c-41ba-9fd5-7e8602ee34ae"
   },
   "outputs": [],
   "source": [
    "a = np.array([0, 1, 2])\n",
    "np.tile(a, 3)"
   ]
  },
  {
   "cell_type": "code",
   "execution_count": null,
   "metadata": {
    "colab": {
     "base_uri": "https://localhost:8080/",
     "height": 54
    },
    "colab_type": "code",
    "id": "4-4D67oEtcv1",
    "outputId": "3a79d56b-1cc6-435e-a562-1e2903df5758"
   },
   "outputs": [],
   "source": [
    "a = np.array([0, 1, 2])\n",
    "np.tile(a, (2, 2))"
   ]
  },
  {
   "cell_type": "code",
   "execution_count": null,
   "metadata": {
    "colab": {
     "base_uri": "https://localhost:8080/",
     "height": 72
    },
    "colab_type": "code",
    "id": "BRlzFaustcdF",
    "outputId": "6dd1a3e8-85bb-4b6e-c4be-18f2750f650e"
   },
   "outputs": [],
   "source": [
    "a = np.array([0, 1, 2])\n",
    "np.tile(a, (2, 1, 2))"
   ]
  },
  {
   "cell_type": "code",
   "execution_count": null,
   "metadata": {
    "colab": {},
    "colab_type": "code",
    "id": "2XbonozPmGsx"
   },
   "outputs": [],
   "source": [
    "print(a.shape)\n",
    "a.reshape(3, 5)\n",
    "print(a.shape)"
   ]
  },
  {
   "cell_type": "code",
   "execution_count": null,
   "metadata": {
    "colab": {},
    "colab_type": "code",
    "id": "Jo0qk5famLZM"
   },
   "outputs": [],
   "source": [
    "print('the number of axes (dimensions) of the array. =',a.ndim)\n",
    "print('the dimensions of the array =',a.shape)\n",
    "print('the total number of elements of the array =',a.size)\n",
    "print('a.ndim =',a.ndim)"
   ]
  },
  {
   "cell_type": "markdown",
   "metadata": {
    "colab_type": "text",
    "id": "wDXQHIppnihv"
   },
   "source": [
    "### Basic OPerations"
   ]
  },
  {
   "cell_type": "code",
   "execution_count": null,
   "metadata": {
    "colab": {},
    "colab_type": "code",
    "id": "CFRDXlTAnpBn"
   },
   "outputs": [],
   "source": [
    "A = np.array( [[1,1],\n",
    "           [0,1]] )\n",
    "B = np.array( [[2,0],\n",
    "            [3,4]] )"
   ]
  },
  {
   "cell_type": "code",
   "execution_count": null,
   "metadata": {
    "colab": {
     "base_uri": "https://localhost:8080/",
     "height": 92
    },
    "colab_type": "code",
    "id": "AT1Chi2-nyG6",
    "outputId": "da1c3e12-89dd-474d-a4e9-aa35065955f6"
   },
   "outputs": [],
   "source": [
    "# Arithmetic operators on arrays apply elementwise\n",
    "print(A+B)\n",
    "print(2*A)"
   ]
  },
  {
   "cell_type": "code",
   "execution_count": null,
   "metadata": {
    "colab": {
     "base_uri": "https://localhost:8080/",
     "height": 54
    },
    "colab_type": "code",
    "id": "efb4yFnHn5KR",
    "outputId": "64c7aea8-1372-41c6-a39c-c6a1b0d03e17"
   },
   "outputs": [],
   "source": [
    "# Unlike in many matrix languages, the product operator * operates elementwise in NumPy arrays. \n",
    "# The matrix product can be performed using the @ operator (in python >=3.5) or the dot function or method:\n",
    " \n",
    "A * B                       # elementwise product"
   ]
  },
  {
   "cell_type": "code",
   "execution_count": null,
   "metadata": {
    "colab": {
     "base_uri": "https://localhost:8080/",
     "height": 54
    },
    "colab_type": "code",
    "id": "IcH4SDNeoh3l",
    "outputId": "b572bd1c-6126-4f78-806d-70b3e1c701aa"
   },
   "outputs": [],
   "source": [
    "A @ B                       # matrix product\n"
   ]
  },
  {
   "cell_type": "code",
   "execution_count": null,
   "metadata": {
    "colab": {
     "base_uri": "https://localhost:8080/",
     "height": 54
    },
    "colab_type": "code",
    "id": "hZwH-z8lokxe",
    "outputId": "9bd622b5-9200-4bd1-b24e-daf9bf1f7e03"
   },
   "outputs": [],
   "source": [
    "A.dot(B)                    # another matrix product\n"
   ]
  },
  {
   "cell_type": "code",
   "execution_count": null,
   "metadata": {
    "colab": {
     "base_uri": "https://localhost:8080/",
     "height": 54
    },
    "colab_type": "code",
    "id": "CotrRzV09aGW",
    "outputId": "deb9e9f8-3d6d-4da1-cbac-177618908b3a"
   },
   "outputs": [],
   "source": [
    "#Also\n",
    "np.dot(A, B)"
   ]
  },
  {
   "cell_type": "code",
   "execution_count": null,
   "metadata": {
    "colab": {
     "base_uri": "https://localhost:8080/",
     "height": 73
    },
    "colab_type": "code",
    "id": "vVwY-cQdooif",
    "outputId": "56e5b5f9-6670-49cc-b14a-fd34535033e0"
   },
   "outputs": [],
   "source": [
    "a=np.arange(12).reshape(3,4)\n",
    "a"
   ]
  },
  {
   "cell_type": "code",
   "execution_count": null,
   "metadata": {
    "colab": {
     "base_uri": "https://localhost:8080/",
     "height": 92
    },
    "colab_type": "code",
    "id": "hr0DFg-7piLx",
    "outputId": "60e5ff5b-5e08-4b74-8e11-6698d12c9f8d"
   },
   "outputs": [],
   "source": [
    "print('sum =',a.sum())\n",
    "print('min ',a.min())\n",
    "print('max =',a.max())\n",
    "print( 'sum on rows  ',a.sum(axis=0) )"
   ]
  },
  {
   "cell_type": "code",
   "execution_count": null,
   "metadata": {
    "colab": {},
    "colab_type": "code",
    "id": "CiD1W_S9h1q1"
   },
   "outputs": [],
   "source": []
  },
  {
   "cell_type": "markdown",
   "metadata": {
    "colab_type": "text",
    "id": "dKYxreRgjzj0"
   },
   "source": [
    "##Broadcasting\n",
    "\n",
    "Broadcasting is a powerful mechanism that allows numpy to work with arrays of different shapes when performing arithmetic operations. Frequently we have a smaller array and a larger array, and we want to use the smaller array multiple times to perform some operation on the larger array.\n",
    "\n",
    "For example, suppose that we want to add a constant vector to each row of a matrix. We could do it like this:"
   ]
  },
  {
   "cell_type": "code",
   "execution_count": null,
   "metadata": {
    "colab": {
     "base_uri": "https://localhost:8080/",
     "height": 35
    },
    "colab_type": "code",
    "id": "OUvwvfQ7jzju",
    "outputId": "a54ddbe8-3366-408c-a93c-7d6224dc5f1e"
   },
   "outputs": [],
   "source": [
    "import time\n",
    "# We will add the vector v to each row of the matrix x,\n",
    "# storing the result in the matrix y\n",
    "x = np.array([[1,2,3], [4,5,6], [7,8,9], [10, 11, 12]])\n",
    "v = np.array([1, 0, 1])\n",
    "y = np.empty_like(x)   # Create an empty matrix with the same shape as x\n",
    "\n",
    "# Add the vector v to each row of the matrix x with an explicit loop\n",
    "t1=time.time()\n",
    "for i in range(4):\n",
    "    y[i, :] = x[i, :] + v\n",
    "t2=time.time()\n",
    "\n",
    "print(t2-t1)\n",
    "print(y)"
   ]
  },
  {
   "cell_type": "markdown",
   "metadata": {
    "colab_type": "text",
    "id": "30GLERCLkLDA"
   },
   "source": [
    "This works; however when the matrix x is very large, computing an explicit loop in Python could be slow. Note that adding the vector v to each row of the matrix x is equivalent to forming a matrix vv by stacking multiple copies of v vertically, then performing elementwise summation of x and vv. We could implement this approach like this:"
   ]
  },
  {
   "cell_type": "code",
   "execution_count": null,
   "metadata": {
    "colab": {
     "base_uri": "https://localhost:8080/",
     "height": 90
    },
    "colab_type": "code",
    "id": "KLm9jjxFjzjp",
    "outputId": "57e82645-8fbf-43b4-d014-ea1ba277a51e"
   },
   "outputs": [],
   "source": [
    "\n",
    "\n",
    "vv = np.tile(v, (4, 1))  # Stack 4 copies of v on top of each other\n",
    "print(vv)                 # Prints \"[[1 0 1]\n",
    "                         #          [1 0 1]\n",
    "                         #          [1 0 1]\n",
    "                         #          [1 0 1]]\""
   ]
  },
  {
   "cell_type": "code",
   "execution_count": null,
   "metadata": {
    "colab": {
     "base_uri": "https://localhost:8080/",
     "height": 90
    },
    "colab_type": "code",
    "id": "pm_Jcno6kU_P",
    "outputId": "7b7767ff-949e-4af7-8352-c064a0bd5099"
   },
   "outputs": [],
   "source": [
    "y = x + vv  # Add x and vv elementwise\n",
    "print(y)"
   ]
  },
  {
   "cell_type": "markdown",
   "metadata": {
    "colab_type": "text",
    "id": "5t26taVbke5-"
   },
   "source": [
    "Numpy broadcasting allows us to perform this computation without actually creating multiple copies of v. Consider this version, using broadcasting:"
   ]
  },
  {
   "cell_type": "code",
   "execution_count": null,
   "metadata": {
    "colab": {
     "base_uri": "https://localhost:8080/",
     "height": 108
    },
    "colab_type": "code",
    "id": "aTki7IoVkVjq",
    "outputId": "bac9ec22-980c-4c21-a0ea-767bafa59c09"
   },
   "outputs": [],
   "source": [
    "import numpy as np\n",
    "\n",
    "# We will add the vector v to each row of the matrix x,\n",
    "# storing the result in the matrix y\n",
    "x = np.array([[1,2,3], [4,5,6], [7,8,9], [10, 11, 12]])\n",
    "v = np.array([1, 0, 1])\n",
    "t1=time.time()\n",
    "y = x + v  # Add v to each row of x using broadcasting\n",
    "t2=time.time()\n",
    "\n",
    "print(t2-t1)\n",
    "print(y)"
   ]
  },
  {
   "cell_type": "markdown",
   "metadata": {
    "colab_type": "text",
    "id": "_-oj1uF9kjab"
   },
   "source": [
    "The line y = x + v works even though x has shape (4, 3) and v has shape (3,) due to broadcasting; this line works as if v actually had shape (4, 3), where each row was a copy of v, and the sum was performed elementwise.\n",
    "\n",
    "Broadcasting two arrays together follows these rules:\n",
    "\n",
    "\n",
    "\n",
    "1.   If the arrays do not have the same rank, prepend the shape of the lower rank array with 1s until both shapes have the same length.\n",
    "2.   The two arrays are said to be compatible in a dimension if they have the same size in the dimension, or if one of the arrays has size 1 in that dimension.\n",
    "\n",
    "3.   The arrays can be broadcast together if they are compatible in all dimensions.\n",
    "4.   After broadcasting, each array behaves as if it had shape equal to the elementwise maximum of shapes of the two input arrays.\n",
    "\n",
    "\n",
    "5.   In any dimension where one array had size 1 and the other array had size greater than 1, the first array behaves as if it were copied along that dimension.\n",
    "\n",
    "\n",
    "Functions that support broadcasting are known as universal functions. You can find the list of all universal functions in the documentation.\n",
    "\n",
    "Here are some applications of broadcasting:"
   ]
  },
  {
   "cell_type": "code",
   "execution_count": null,
   "metadata": {
    "colab": {
     "base_uri": "https://localhost:8080/",
     "height": 145
    },
    "colab_type": "code",
    "id": "2Xxdv8oakncn",
    "outputId": "1152e018-795e-43d7-a00d-b80613fe89c7"
   },
   "outputs": [],
   "source": [
    "# Compute outer product of vectors\n",
    "v = np.array([1,2,3])  # v has shape (3,)\n",
    "w = np.array([4,5])    # w has shape (2,)\n",
    "# To compute an outer product, we first reshape v to be a column\n",
    "# vector of shape (3, 1); we can then broadcast it against w to yield\n",
    "# an output of shape (3, 2), which is the outer product of v and w:\n",
    "print('v: ',np.reshape(v, (3, 1)))\n",
    "print('w: ',w)\n",
    "print(np.reshape(v, (3, 1)) * w)"
   ]
  },
  {
   "cell_type": "code",
   "execution_count": null,
   "metadata": {
    "colab": {
     "base_uri": "https://localhost:8080/",
     "height": 108
    },
    "colab_type": "code",
    "id": "bqIvN980l1Lz",
    "outputId": "b8696ee8-fda9-48e7-b7e1-16a7b165c873"
   },
   "outputs": [],
   "source": [
    "# Add a vector to each row of a matrix\n",
    "x = np.array([[1,2,3], [4,5,6]])\n",
    "# x has shape (2, 3) and v has shape (3,) so they broadcast to (2, 3),\n",
    "# giving the following matrix:\n",
    "print(x)\n",
    "print(v)\n",
    "print(x + v)"
   ]
  },
  {
   "cell_type": "code",
   "execution_count": null,
   "metadata": {
    "colab": {
     "base_uri": "https://localhost:8080/",
     "height": 126
    },
    "colab_type": "code",
    "id": "LT40CiiHl5p2",
    "outputId": "b19c03cd-c6f0-434d-ec35-64c59f2d5093"
   },
   "outputs": [],
   "source": [
    "# Add a vector to each column of a matrix\n",
    "# x has shape (2, 3) and w has shape (2,).\n",
    "# If we transpose x then it has shape (3, 2) and can be broadcast\n",
    "# against w to yield a result of shape (3, 2); transposing this result\n",
    "# yields the final result of shape (2, 3) which is the matrix x with\n",
    "# the vector w added to each column. Gives the following matrix:\n",
    "print(x.T)\n",
    "print(w)\n",
    "print((x.T + w).T)"
   ]
  },
  {
   "cell_type": "code",
   "execution_count": null,
   "metadata": {
    "colab": {
     "base_uri": "https://localhost:8080/",
     "height": 126
    },
    "colab_type": "code",
    "id": "ERNhyXkvl8xu",
    "outputId": "3d41c688-05ba-481a-f145-f4059214eb4a"
   },
   "outputs": [],
   "source": [
    "# Another solution is to reshape w to be a row vector of shape (2, 1);\n",
    "# we can then broadcast it directly against x to produce the same\n",
    "# output.\n",
    "print(x)\n",
    "print(np.reshape(w, (2, 1)))\n",
    "print(x + np.reshape(w, (2, 1)))"
   ]
  },
  {
   "cell_type": "code",
   "execution_count": null,
   "metadata": {
    "colab": {},
    "colab_type": "code",
    "id": "8uHNY62wl92F"
   },
   "outputs": [],
   "source": [
    "# Multiply a matrix by a constant:\n",
    "# x has shape (2, 3). Numpy treats scalars as arrays of shape ();\n",
    "# these can be broadcast together to shape (2, 3), producing the\n",
    "# following array:\n",
    "print(x * 2)"
   ]
  },
  {
   "cell_type": "markdown",
   "metadata": {
    "colab_type": "text",
    "id": "4xbJOXkNjzjm"
   },
   "source": [
    "## Universal Functions\n",
    "NumPy provides familiar mathematical functions such as sin, cos, and exp. In NumPy, these are called “universal functions”(ufunc). Within NumPy, these functions operate elementwise on an array, producing an array as output."
   ]
  },
  {
   "cell_type": "code",
   "execution_count": null,
   "metadata": {
    "colab": {
     "base_uri": "https://localhost:8080/",
     "height": 129
    },
    "colab_type": "code",
    "id": "wzKNwACRjzje",
    "outputId": "19575cef-7df5-47f0-ac53-68e86077fd9b"
   },
   "outputs": [],
   "source": [
    "print(np.exp(a))\n",
    "print(np.sin(a))"
   ]
  },
  {
   "cell_type": "code",
   "execution_count": null,
   "metadata": {
    "colab": {
     "base_uri": "https://localhost:8080/",
     "height": 73
    },
    "colab_type": "code",
    "id": "68iqi9P1jzjY",
    "outputId": "9a60f6db-2aff-4ebb-af63-ba0aa885c23f"
   },
   "outputs": [],
   "source": [
    "a = np.array([[10, 11, 12],\n",
    "              [13, 14, 15]])\n",
    "\n",
    "print(np.argmax(a))\n",
    "print(np.argmax(a, axis=0))\n",
    "print(np.argmax(a, axis=1))"
   ]
  },
  {
   "cell_type": "markdown",
   "metadata": {
    "colab_type": "text",
    "id": "hDTP6uLojzjW"
   },
   "source": [
    "## Indexing, Slicing and Iterating"
   ]
  },
  {
   "cell_type": "code",
   "execution_count": null,
   "metadata": {
    "colab": {
     "base_uri": "https://localhost:8080/",
     "height": 111
    },
    "colab_type": "code",
    "id": "jL5WpAjNjzjP",
    "outputId": "819bef7e-768e-4ca7-b539-ff8ef33b6689"
   },
   "outputs": [],
   "source": [
    "a = np.arange(10)**3\n",
    "print('a= ',a)\n",
    "print('a[2:5] =',a[2:5])\n",
    "print('a[0:8:2] =',a[0:8:2])\n",
    "print('a[:8:2]  =',a[:8:2])\n",
    "print(a[ : :-1] )            # reversed a"
   ]
  },
  {
   "cell_type": "code",
   "execution_count": null,
   "metadata": {
    "colab": {
     "base_uri": "https://localhost:8080/",
     "height": 204
    },
    "colab_type": "code",
    "id": "4zMqBNDKjzjF",
    "outputId": "4cf89721-dad7-46df-ecc1-d4d03d4960e6"
   },
   "outputs": [],
   "source": [
    "for i in a:\n",
    "  print(i)"
   ]
  },
  {
   "cell_type": "code",
   "execution_count": null,
   "metadata": {
    "colab": {
     "base_uri": "https://localhost:8080/",
     "height": 92
    },
    "colab_type": "code",
    "id": "2jD_d0EijzjA",
    "outputId": "f1d37cd7-19ad-4136-e677-8ab73159bd3e"
   },
   "outputs": [],
   "source": [
    "b=np.array([[ 0,  1,  2,  3],\n",
    "            [10, 11, 12, 13],\n",
    "            [20, 21, 22, 23],\n",
    "            [30, 31, 32, 33],\n",
    "            [40, 41, 42, 43]])\n",
    "print('b[2,3] =',b[2,3])\n",
    "print('b[2:5, 1] =',b[2:5, 1])         # each row in the second column of b\n",
    "print('b[ : ,1] =', b[ : ,1])          #all rows x col 1\n",
    "print('b[-1] =', b[-1])                # the last row. Equivalent to b[-1,:]"
   ]
  },
  {
   "cell_type": "code",
   "execution_count": null,
   "metadata": {
    "colab": {},
    "colab_type": "code",
    "id": "QDMVI9Ihjzi6"
   },
   "outputs": [],
   "source": [
    "# The dots (...) represent as many colons as needed to produce a complete indexing tuple.\n",
    "# For example, if x is an array with 5 axes, then\n",
    "\n",
    "#     x[1,2,...] is equivalent to x[1,2,:,:,:],\n",
    "#     x[...,3] to x[:,:,:,:,3] \n",
    "#     x[4,...,5,:] to x[4,:,:,5,:].\n",
    "c = np.array( [[ [ 0,  1,  2],               # a 3D array (two stacked 2D arrays)\n",
    "                 [ 10, 12, 13]],\n",
    "                 [[100,101,102],\n",
    "                 [110,112,113]]])\n",
    "c[1,...]                                   # same as c[1,:,:] or c[1]\n"
   ]
  },
  {
   "cell_type": "markdown",
   "metadata": {
    "colab_type": "text",
    "id": "6U0qr40yjzi4"
   },
   "source": [
    "## Shape Manipulation"
   ]
  },
  {
   "cell_type": "code",
   "execution_count": null,
   "metadata": {
    "colab": {
     "base_uri": "https://localhost:8080/",
     "height": 36
    },
    "colab_type": "code",
    "id": "pZs0zBmZjziy",
    "outputId": "5d1604ab-abc2-4cab-bb57-cbad99600e50"
   },
   "outputs": [],
   "source": [
    "a=np.array([[ 2.,  8.,  0.,  6.],\n",
    "            [ 4.,  5.,  1.,  1.],\n",
    "            [ 8.,  9.,  3.,  6.]])\n",
    "# The shape of an array can be changed with various commands. \n",
    "# Note that the following three commands all return a modified array, but do not change the original array:\n",
    "a.shape\n"
   ]
  },
  {
   "cell_type": "code",
   "execution_count": null,
   "metadata": {
    "colab": {
     "base_uri": "https://localhost:8080/",
     "height": 36
    },
    "colab_type": "code",
    "id": "SV2M1vLljziq",
    "outputId": "368c54e7-9d58-4d17-e8a9-ed00e247ecd8"
   },
   "outputs": [],
   "source": [
    "a.ravel()  # returns the array, flattened"
   ]
  },
  {
   "cell_type": "code",
   "execution_count": null,
   "metadata": {
    "colab": {
     "base_uri": "https://localhost:8080/",
     "height": 129
    },
    "colab_type": "code",
    "id": "OE4Enx1ujzij",
    "outputId": "11de2fb7-7b8f-4cd0-97b7-96570211b9d5"
   },
   "outputs": [],
   "source": [
    "a.reshape(6,2)  # returns the array with a modified shape"
   ]
  },
  {
   "cell_type": "code",
   "execution_count": null,
   "metadata": {
    "colab": {},
    "colab_type": "code",
    "id": "q3PI1kCqjzia"
   },
   "outputs": [],
   "source": [
    "# If a dimension is given as -1 in a reshaping operation, the other dimensions are automatically calculated:\n",
    "a.reshape(3,-1)"
   ]
  },
  {
   "cell_type": "code",
   "execution_count": null,
   "metadata": {
    "colab": {
     "base_uri": "https://localhost:8080/",
     "height": 111
    },
    "colab_type": "code",
    "id": "tUuQz2POjziT",
    "outputId": "4c422be8-2413-41ed-aba8-84d5271f70ba"
   },
   "outputs": [],
   "source": [
    "#The reshape function returns its argument with a modified shape, whereas the ndarray.resize method modifies the array itself:\n",
    "print(a)\n",
    "a.resize((2,6))                   #equivalent to a=a.reshape((2,6))\n",
    "print(a)"
   ]
  },
  {
   "cell_type": "code",
   "execution_count": null,
   "metadata": {
    "colab": {
     "base_uri": "https://localhost:8080/",
     "height": 129
    },
    "colab_type": "code",
    "id": "rQr4NFJTjziK",
    "outputId": "f4f5aed1-8ff8-46c2-9cb9-e7aebd52e7f1"
   },
   "outputs": [],
   "source": [
    "a.T  # returns the array, transposed"
   ]
  },
  {
   "cell_type": "markdown",
   "metadata": {
    "colab_type": "text",
    "id": "1KznqkD7DXKN"
   },
   "source": [
    "### Stacking together different arrays¶"
   ]
  },
  {
   "cell_type": "code",
   "execution_count": null,
   "metadata": {
    "colab": {
     "base_uri": "https://localhost:8080/",
     "height": 126
    },
    "colab_type": "code",
    "id": "dg1Zs-24jzh8",
    "outputId": "ff05a8ba-0472-4810-f211-c0175c710068"
   },
   "outputs": [],
   "source": [
    "a=np.array([[ 0.,  0.],\n",
    "            [ 0.,  0.],\n",
    "            [ 0.,  0.]])\n",
    "b=np.array([[ 1.,  1.],\n",
    "            [ 1.,  1.],\n",
    "           [ 1.,  1.]])\n",
    "            \n",
    "np.vstack((a,b))"
   ]
  },
  {
   "cell_type": "code",
   "execution_count": null,
   "metadata": {
    "colab": {
     "base_uri": "https://localhost:8080/",
     "height": 72
    },
    "colab_type": "code",
    "id": "TlXYnkX2EFYm",
    "outputId": "6dc3cc39-ded0-4832-dc54-13f3de555cd8"
   },
   "outputs": [],
   "source": [
    "np.hstack((a,b))"
   ]
  },
  {
   "cell_type": "markdown",
   "metadata": {
    "colab_type": "text",
    "id": "zaUWSesCFJcq"
   },
   "source": [
    "The function column_stack stacks 1D arrays as columns into a 2D array. It is equivalent to hstack only for 2D arrays:"
   ]
  },
  {
   "cell_type": "code",
   "execution_count": null,
   "metadata": {
    "colab": {
     "base_uri": "https://localhost:8080/",
     "height": 54
    },
    "colab_type": "code",
    "id": "SDycbc4jFITB",
    "outputId": "edb1058d-a7d8-4022-c8a6-c1c5700307f4"
   },
   "outputs": [],
   "source": [
    "np.column_stack((a,b))     # with 2D arrays    => the same as hstack\n",
    "\n"
   ]
  },
  {
   "cell_type": "code",
   "execution_count": null,
   "metadata": {
    "colab": {
     "base_uri": "https://localhost:8080/",
     "height": 108
    },
    "colab_type": "code",
    "id": "iIcSwp9IFkmQ",
    "outputId": "c687b324-0f7c-4257-8b70-ba370d50937c"
   },
   "outputs": [],
   "source": [
    "a = np.array([4.,2.])\n",
    "b = np.array([3.,8.])\n",
    "print(np.column_stack((a,b)) )    # returns a 2D array\n",
    "\n",
    "print(np.hstack((a,b)))        # the result is different\n",
    "print(np.vstack((a,b)) )"
   ]
  },
  {
   "cell_type": "markdown",
   "metadata": {
    "colab_type": "text",
    "id": "FHQMEyQ_Hrny"
   },
   "source": [
    "### Copies and Views\n",
    "When operating and manipulating arrays, their data is sometimes copied into a new array and sometimes not. \n",
    "There are three cases:\n",
    "\n"
   ]
  },
  {
   "cell_type": "markdown",
   "metadata": {
    "colab_type": "text",
    "id": "n-lffzeuH9ee"
   },
   "source": [
    "\n",
    "**1.**   ***No Copy at All***\n",
    "Simple assignments make no copy of array objects or of their data."
   ]
  },
  {
   "cell_type": "code",
   "execution_count": null,
   "metadata": {
    "colab": {
     "base_uri": "https://localhost:8080/",
     "height": 35
    },
    "colab_type": "code",
    "id": "UvSWgF6CEKju",
    "outputId": "668895a3-f484-40c7-9fc9-a380433e9a74"
   },
   "outputs": [],
   "source": [
    "a = np.arange(12)\n",
    "b = a            # no new object is created\n",
    "b is a           # a and b are two names for the same ndarray object\n"
   ]
  },
  {
   "cell_type": "code",
   "execution_count": null,
   "metadata": {
    "colab": {
     "base_uri": "https://localhost:8080/",
     "height": 35
    },
    "colab_type": "code",
    "id": "u1nXA3LxIVCK",
    "outputId": "9f77291e-de03-43ab-ff80-d323f775eb65"
   },
   "outputs": [],
   "source": [
    "b.shape = 3,4    # changes the shape of a\n",
    "a.shape\n"
   ]
  },
  {
   "cell_type": "code",
   "execution_count": null,
   "metadata": {
    "colab": {
     "base_uri": "https://localhost:8080/",
     "height": 54
    },
    "colab_type": "code",
    "id": "y-Bn4ZukIT3R",
    "outputId": "1a915b8f-7b12-42aa-8a52-6d13afe535d1"
   },
   "outputs": [],
   "source": [
    "print(id(a))\n",
    "print(id(b))"
   ]
  },
  {
   "cell_type": "markdown",
   "metadata": {
    "colab_type": "text",
    "id": "1jbGafSTI5xf"
   },
   "source": [
    "\n",
    "***2.   View or Shallow Copy:***\n",
    "Different array objects can share the same data. The view method creates a new array object that looks at the same data.\n",
    "\n"
   ]
  },
  {
   "cell_type": "code",
   "execution_count": null,
   "metadata": {
    "colab": {
     "base_uri": "https://localhost:8080/",
     "height": 54
    },
    "colab_type": "code",
    "id": "dueJCYC0IvjY",
    "outputId": "411db57b-0f03-4915-f239-4cede19735a5"
   },
   "outputs": [],
   "source": [
    "c = a.view()\n",
    "print(c is a)\n",
    "print(c.base is a   )                     # c is a view of the data owned by "
   ]
  },
  {
   "cell_type": "code",
   "execution_count": null,
   "metadata": {
    "colab": {
     "base_uri": "https://localhost:8080/",
     "height": 35
    },
    "colab_type": "code",
    "id": "LS1j5DyuJVvA",
    "outputId": "96286400-2a20-41df-dc17-37e88436753e"
   },
   "outputs": [],
   "source": [
    "c.shape = 2,6                      # a's shape doesn't change\n",
    "a.shape"
   ]
  },
  {
   "cell_type": "code",
   "execution_count": null,
   "metadata": {
    "colab": {
     "base_uri": "https://localhost:8080/",
     "height": 72
    },
    "colab_type": "code",
    "id": "czQvFTJxLecv",
    "outputId": "93ecb6a4-246c-4a79-cfc8-fce47a11266f"
   },
   "outputs": [],
   "source": [
    "c[0,4] = 1234                      # a's data changes\n",
    "a\n"
   ]
  },
  {
   "cell_type": "markdown",
   "metadata": {
    "colab_type": "text",
    "id": "eTB0atTyL5Do"
   },
   "source": [
    "Hint:\n",
    "Slicing an array returns a view of it:\n"
   ]
  },
  {
   "cell_type": "code",
   "execution_count": null,
   "metadata": {
    "colab": {
     "base_uri": "https://localhost:8080/",
     "height": 72
    },
    "colab_type": "code",
    "id": "JhWaqvUGL358",
    "outputId": "6c99329c-ae8d-42d2-a406-e122585191a4"
   },
   "outputs": [],
   "source": [
    "\n",
    "s = a[ : , 1:3]     # spaces added for clarity; could also be written \"s = a[:,1:3]\"\n",
    "s[:] = 10           # s[:] is a view of s. Note the difference between s=10 and s[:]=10\n",
    "a\n"
   ]
  },
  {
   "cell_type": "markdown",
   "metadata": {
    "colab_type": "text",
    "id": "MH_O62pAJb8L"
   },
   "source": [
    "\n",
    "\n",
    "***3.   Deep Copy:***\n",
    "\n",
    "The copy method makes a complete copy of the array and its data.\n",
    "\n"
   ]
  },
  {
   "cell_type": "code",
   "execution_count": null,
   "metadata": {
    "colab": {},
    "colab_type": "code",
    "id": "Cb_i3bGQMNf0"
   },
   "outputs": [],
   "source": [
    "a = np.arange(12)\n",
    "a.shape=3,4"
   ]
  },
  {
   "cell_type": "code",
   "execution_count": null,
   "metadata": {
    "colab": {
     "base_uri": "https://localhost:8080/",
     "height": 54
    },
    "colab_type": "code",
    "id": "9HQJEPKBJlOP",
    "outputId": "1fd74a5e-cd02-4076-da7c-10c4b0dd7354"
   },
   "outputs": [],
   "source": [
    "d = a.copy()                          # a new array object with new data is created\n",
    "print(d is a)\n",
    "print(d.base is a )                   # d doesn't share anything with a"
   ]
  },
  {
   "cell_type": "code",
   "execution_count": null,
   "metadata": {
    "colab": {
     "base_uri": "https://localhost:8080/",
     "height": 72
    },
    "colab_type": "code",
    "id": "2pTvCSWVLlvK",
    "outputId": "bbed3f4c-831c-4b48-9b77-0d709e7b1a93"
   },
   "outputs": [],
   "source": [
    "d[0,0] = 9999\n",
    "a"
   ]
  },
  {
   "cell_type": "code",
   "execution_count": null,
   "metadata": {
    "colab": {},
    "colab_type": "code",
    "id": "w5AgtAH0JW1H"
   },
   "outputs": [],
   "source": []
  },
  {
   "cell_type": "code",
   "execution_count": null,
   "metadata": {},
   "outputs": [],
   "source": []
  }
 ],
 "metadata": {
  "colab": {
   "collapsed_sections": [],
   "name": "Numpy Tut.ipynb",
   "provenance": []
  },
  "kernelspec": {
   "display_name": "Python 3",
   "language": "python",
   "name": "python3"
  },
  "language_info": {
   "codemirror_mode": {
    "name": "ipython",
    "version": 3
   },
   "file_extension": ".py",
   "mimetype": "text/x-python",
   "name": "python",
   "nbconvert_exporter": "python",
   "pygments_lexer": "ipython3",
   "version": "3.7.1"
  }
 },
 "nbformat": 4,
 "nbformat_minor": 1
}
